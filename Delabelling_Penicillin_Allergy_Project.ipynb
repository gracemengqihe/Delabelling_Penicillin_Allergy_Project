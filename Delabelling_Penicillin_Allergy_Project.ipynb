{
 "cells": [
  {
   "cell_type": "markdown",
   "metadata": {},
   "source": [
    "<h1>1. Data Preprocessing</h1>"
   ]
  },
  {
   "cell_type": "code",
   "execution_count": 1,
   "metadata": {},
   "outputs": [],
   "source": [
    "import pandas as pd\n",
    "import numpy as np"
   ]
  },
  {
   "cell_type": "code",
   "execution_count": 63,
   "metadata": {},
   "outputs": [],
   "source": [
    "import warnings\n",
    "warnings.filterwarnings(\"ignore\")"
   ]
  },
  {
   "cell_type": "code",
   "execution_count": 64,
   "metadata": {},
   "outputs": [
    {
     "data": {
      "text/plain": [
       "(62, 11)"
      ]
     },
     "execution_count": 64,
     "metadata": {},
     "output_type": "execute_result"
    }
   ],
   "source": [
    "missing_values = ['unknown', 'Unknown',\"Penicillin unspecified\"]\n",
    "data = pd.read_csv(\"delabel_data.csv\", na_values = missing_values)\n",
    "data = data.drop(['ID'], axis = 1)\n",
    "data = data.drop(['SK_Results'], axis = 1)\n",
    "data = data.drop(['OC_Results'], axis = 1)\n",
    "data = data.drop(['Penicillin_allergy_label'], axis = 1)\n",
    "data = data.dropna(subset = ['Allergy_Results'])\n",
    "data = data.dropna(thresh = data.shape[1]-3) #filter out all the rows that have more than 3 NaNs\n",
    "data.shape"
   ]
  },
  {
   "cell_type": "code",
   "execution_count": 65,
   "metadata": {},
   "outputs": [
    {
     "data": {
      "text/plain": [
       "Age                float64\n",
       "Gender              object\n",
       "Urticaria           object\n",
       "Angioedema          object\n",
       "Anaphylaxis         object\n",
       "Adrenaline_use      object\n",
       "ED_presentation     object\n",
       "Latency             object\n",
       "React_time          object\n",
       "Treatment           object\n",
       "Allergy_Results     object\n",
       "dtype: object"
      ]
     },
     "execution_count": 65,
     "metadata": {},
     "output_type": "execute_result"
    }
   ],
   "source": [
    "data['Urticaria'] = data.Urticaria.astype(object)\n",
    "data['Angioedema'] = data.Angioedema.astype(object)\n",
    "data['Anaphylaxis'] = data.Anaphylaxis.astype(object)\n",
    "data['Adrenaline_use'] = data.Adrenaline_use.astype(object)\n",
    "data['ED_presentation'] = data.ED_presentation.astype(object)\n",
    "data['Allergy_Results'] = data.Allergy_Results.astype(object)\n",
    "data['React_time'] = data.React_time.astype(object)\n",
    "data['Latency'] = data.Latency.astype(object)\n",
    "data.dtypes"
   ]
  },
  {
   "cell_type": "code",
   "execution_count": 66,
   "metadata": {},
   "outputs": [
    {
     "data": {
      "text/html": [
       "<div>\n",
       "<style scoped>\n",
       "    .dataframe tbody tr th:only-of-type {\n",
       "        vertical-align: middle;\n",
       "    }\n",
       "\n",
       "    .dataframe tbody tr th {\n",
       "        vertical-align: top;\n",
       "    }\n",
       "\n",
       "    .dataframe thead th {\n",
       "        text-align: right;\n",
       "    }\n",
       "</style>\n",
       "<table border=\"1\" class=\"dataframe\">\n",
       "  <thead>\n",
       "    <tr style=\"text-align: right;\">\n",
       "      <th></th>\n",
       "      <th>Age</th>\n",
       "      <th>Gender</th>\n",
       "      <th>Urticaria</th>\n",
       "      <th>Angioedema</th>\n",
       "      <th>Anaphylaxis</th>\n",
       "      <th>Adrenaline_use</th>\n",
       "      <th>ED_presentation</th>\n",
       "      <th>Latency</th>\n",
       "      <th>React_time</th>\n",
       "      <th>Treatment</th>\n",
       "      <th>Allergy_Results</th>\n",
       "    </tr>\n",
       "  </thead>\n",
       "  <tbody>\n",
       "    <tr>\n",
       "      <th>2</th>\n",
       "      <td>19.0</td>\n",
       "      <td>Female</td>\n",
       "      <td>0</td>\n",
       "      <td>0</td>\n",
       "      <td>0</td>\n",
       "      <td>0</td>\n",
       "      <td>0</td>\n",
       "      <td>1</td>\n",
       "      <td>0</td>\n",
       "      <td>Yes</td>\n",
       "      <td>1</td>\n",
       "    </tr>\n",
       "    <tr>\n",
       "      <th>3</th>\n",
       "      <td>41.0</td>\n",
       "      <td>Male</td>\n",
       "      <td>0</td>\n",
       "      <td>1</td>\n",
       "      <td>0</td>\n",
       "      <td>0</td>\n",
       "      <td>0</td>\n",
       "      <td>1</td>\n",
       "      <td>NaN</td>\n",
       "      <td>Yes</td>\n",
       "      <td>0</td>\n",
       "    </tr>\n",
       "    <tr>\n",
       "      <th>4</th>\n",
       "      <td>44.0</td>\n",
       "      <td>Male</td>\n",
       "      <td>0</td>\n",
       "      <td>0</td>\n",
       "      <td>0</td>\n",
       "      <td>0</td>\n",
       "      <td>0</td>\n",
       "      <td>1</td>\n",
       "      <td>NaN</td>\n",
       "      <td>NaN</td>\n",
       "      <td>0</td>\n",
       "    </tr>\n",
       "    <tr>\n",
       "      <th>7</th>\n",
       "      <td>63.0</td>\n",
       "      <td>Male</td>\n",
       "      <td>0</td>\n",
       "      <td>0</td>\n",
       "      <td>0</td>\n",
       "      <td>0</td>\n",
       "      <td>0</td>\n",
       "      <td>1</td>\n",
       "      <td>1</td>\n",
       "      <td>NaN</td>\n",
       "      <td>0</td>\n",
       "    </tr>\n",
       "    <tr>\n",
       "      <th>8</th>\n",
       "      <td>87.0</td>\n",
       "      <td>Female</td>\n",
       "      <td>0</td>\n",
       "      <td>0</td>\n",
       "      <td>0</td>\n",
       "      <td>0</td>\n",
       "      <td>0</td>\n",
       "      <td>1</td>\n",
       "      <td>NaN</td>\n",
       "      <td>NaN</td>\n",
       "      <td>0</td>\n",
       "    </tr>\n",
       "    <tr>\n",
       "      <th>10</th>\n",
       "      <td>28.0</td>\n",
       "      <td>Female</td>\n",
       "      <td>0</td>\n",
       "      <td>0</td>\n",
       "      <td>0</td>\n",
       "      <td>0</td>\n",
       "      <td>0</td>\n",
       "      <td>1</td>\n",
       "      <td>NaN</td>\n",
       "      <td>NaN</td>\n",
       "      <td>0</td>\n",
       "    </tr>\n",
       "    <tr>\n",
       "      <th>16</th>\n",
       "      <td>14.0</td>\n",
       "      <td>Female</td>\n",
       "      <td>0</td>\n",
       "      <td>0</td>\n",
       "      <td>0</td>\n",
       "      <td>0</td>\n",
       "      <td>0</td>\n",
       "      <td>1</td>\n",
       "      <td>1</td>\n",
       "      <td>NaN</td>\n",
       "      <td>0</td>\n",
       "    </tr>\n",
       "    <tr>\n",
       "      <th>17</th>\n",
       "      <td>38.0</td>\n",
       "      <td>Female</td>\n",
       "      <td>0</td>\n",
       "      <td>0</td>\n",
       "      <td>0</td>\n",
       "      <td>0</td>\n",
       "      <td>0</td>\n",
       "      <td>0</td>\n",
       "      <td>1</td>\n",
       "      <td>Yes</td>\n",
       "      <td>1</td>\n",
       "    </tr>\n",
       "    <tr>\n",
       "      <th>18</th>\n",
       "      <td>50.0</td>\n",
       "      <td>Female</td>\n",
       "      <td>0</td>\n",
       "      <td>0</td>\n",
       "      <td>0</td>\n",
       "      <td>0</td>\n",
       "      <td>0</td>\n",
       "      <td>1</td>\n",
       "      <td>NaN</td>\n",
       "      <td>NaN</td>\n",
       "      <td>0</td>\n",
       "    </tr>\n",
       "    <tr>\n",
       "      <th>19</th>\n",
       "      <td>56.0</td>\n",
       "      <td>Female</td>\n",
       "      <td>1</td>\n",
       "      <td>0</td>\n",
       "      <td>0</td>\n",
       "      <td>0</td>\n",
       "      <td>0</td>\n",
       "      <td>1</td>\n",
       "      <td>1</td>\n",
       "      <td>NaN</td>\n",
       "      <td>1</td>\n",
       "    </tr>\n",
       "  </tbody>\n",
       "</table>\n",
       "</div>"
      ],
      "text/plain": [
       "     Age  Gender Urticaria Angioedema Anaphylaxis Adrenaline_use  \\\n",
       "2   19.0  Female         0          0           0              0   \n",
       "3   41.0    Male         0          1           0              0   \n",
       "4   44.0    Male         0          0           0              0   \n",
       "7   63.0    Male         0          0           0              0   \n",
       "8   87.0  Female         0          0           0              0   \n",
       "10  28.0  Female         0          0           0              0   \n",
       "16  14.0  Female         0          0           0              0   \n",
       "17  38.0  Female         0          0           0              0   \n",
       "18  50.0  Female         0          0           0              0   \n",
       "19  56.0  Female         1          0           0              0   \n",
       "\n",
       "   ED_presentation Latency React_time Treatment Allergy_Results  \n",
       "2                0       1          0       Yes               1  \n",
       "3                0       1        NaN       Yes               0  \n",
       "4                0       1        NaN       NaN               0  \n",
       "7                0       1          1       NaN               0  \n",
       "8                0       1        NaN       NaN               0  \n",
       "10               0       1        NaN       NaN               0  \n",
       "16               0       1          1       NaN               0  \n",
       "17               0       0          1       Yes               1  \n",
       "18               0       1        NaN       NaN               0  \n",
       "19               0       1          1       NaN               1  "
      ]
     },
     "execution_count": 66,
     "metadata": {},
     "output_type": "execute_result"
    }
   ],
   "source": [
    "data.head(10)"
   ]
  },
  {
   "cell_type": "code",
   "execution_count": 67,
   "metadata": {},
   "outputs": [],
   "source": [
    "from sklearn.impute import SimpleImputer"
   ]
  },
  {
   "cell_type": "code",
   "execution_count": 68,
   "metadata": {},
   "outputs": [],
   "source": [
    "s_imputer = SimpleImputer(missing_values = np.nan, strategy ='most_frequent', verbose = 0)\n",
    "data_array = data.values\n",
    "data_array = s_imputer.fit_transform(data_array)"
   ]
  },
  {
   "cell_type": "code",
   "execution_count": 69,
   "metadata": {},
   "outputs": [],
   "source": [
    "from sklearn.preprocessing import LabelEncoder"
   ]
  },
  {
   "cell_type": "code",
   "execution_count": 70,
   "metadata": {},
   "outputs": [],
   "source": [
    "labelencolder = LabelEncoder()\n",
    "data_array[:,1] = labelencolder .fit_transform(data_array[:,1]) #encode gender\n",
    "data_array[:,9] = labelencolder .fit_transform(data_array[:,9]) #encode treatment"
   ]
  },
  {
   "cell_type": "code",
   "execution_count": 217,
   "metadata": {},
   "outputs": [],
   "source": [
    "X = data_array[:,:-1] \n",
    "y = data_array[:,-1]\n",
    "y = y.astype('int')"
   ]
  },
  {
   "cell_type": "code",
   "execution_count": 218,
   "metadata": {},
   "outputs": [],
   "source": [
    "from sklearn.model_selection import train_test_split"
   ]
  },
  {
   "cell_type": "code",
   "execution_count": 219,
   "metadata": {},
   "outputs": [],
   "source": [
    "X_train, X_test, y_train, y_test = train_test_split(X,y,test_size=0.20,random_state = 0)"
   ]
  },
  {
   "cell_type": "markdown",
   "metadata": {},
   "source": [
    "<h2> 1.1 Synthetic Minority Oversampling Technique (SMOTE)</h2>"
   ]
  },
  {
   "cell_type": "code",
   "execution_count": 74,
   "metadata": {},
   "outputs": [
    {
     "data": {
      "text/plain": [
       "array([0.6, 0.7, 0.8, 0.9, 1. ])"
      ]
     },
     "execution_count": 74,
     "metadata": {},
     "output_type": "execute_result"
    }
   ],
   "source": [
    "weights = np.linspace(0.6,1,5)\n",
    "weights"
   ]
  },
  {
   "cell_type": "code",
   "execution_count": 75,
   "metadata": {},
   "outputs": [],
   "source": [
    "from sklearn.model_selection import GridSearchCV\n",
    "from imblearn.pipeline import make_pipeline\n",
    "from imblearn.over_sampling import SMOTE\n",
    "from imblearn.pipeline import Pipeline"
   ]
  },
  {
   "cell_type": "code",
   "execution_count": 76,
   "metadata": {},
   "outputs": [],
   "source": [
    "sm = SMOTE(random_state=42, sampling_strategy = 1)\n",
    "X_train_res, y_train_res = sm.fit_sample(X_train, y_train)"
   ]
  },
  {
   "cell_type": "code",
   "execution_count": 77,
   "metadata": {},
   "outputs": [
    {
     "data": {
      "text/plain": [
       "{0: 40, 1: 9}"
      ]
     },
     "execution_count": 77,
     "metadata": {},
     "output_type": "execute_result"
    }
   ],
   "source": [
    "unique, count = np.unique(y_train, return_counts = True)\n",
    "y_train_smote_value_count = {k:v for (k,v) in zip(unique, count)}\n",
    "y_train_smote_value_count"
   ]
  },
  {
   "cell_type": "code",
   "execution_count": 78,
   "metadata": {},
   "outputs": [
    {
     "data": {
      "text/plain": [
       "{0: 40, 1: 40}"
      ]
     },
     "execution_count": 78,
     "metadata": {},
     "output_type": "execute_result"
    }
   ],
   "source": [
    "unique, count = np.unique(y_train_res, return_counts = True)\n",
    "y_train_smote_value_count = {k:v for (k,v) in zip(unique, count)}\n",
    "y_train_smote_value_count"
   ]
  },
  {
   "cell_type": "code",
   "execution_count": 79,
   "metadata": {},
   "outputs": [],
   "source": [
    "X_res, y_res = sm.fit_sample(X, y)"
   ]
  },
  {
   "cell_type": "code",
   "execution_count": 80,
   "metadata": {},
   "outputs": [
    {
     "data": {
      "text/plain": [
       "{0: 51, 1: 11}"
      ]
     },
     "execution_count": 80,
     "metadata": {},
     "output_type": "execute_result"
    }
   ],
   "source": [
    "unique_1, count_1 = np.unique(y, return_counts = True)\n",
    "y_train_smote_value_count_1 = {k:v for (k,v) in zip(unique_1, count_1)}\n",
    "y_train_smote_value_count_1"
   ]
  },
  {
   "cell_type": "code",
   "execution_count": 81,
   "metadata": {},
   "outputs": [
    {
     "data": {
      "text/plain": [
       "{0: 51, 1: 51}"
      ]
     },
     "execution_count": 81,
     "metadata": {},
     "output_type": "execute_result"
    }
   ],
   "source": [
    "unique_1, count_1 = np.unique(y_res, return_counts = True)\n",
    "y_train_smote_value_count_1 = {k:v for (k,v) in zip(unique_1, count_1)}\n",
    "y_train_smote_value_count_1"
   ]
  },
  {
   "cell_type": "markdown",
   "metadata": {},
   "source": [
    "<h2> 1.2 Feature extraction by using recursive feature elimination</h2>"
   ]
  },
  {
   "cell_type": "code",
   "execution_count": 82,
   "metadata": {},
   "outputs": [],
   "source": [
    "from sklearn.feature_selection import RFE"
   ]
  },
  {
   "cell_type": "code",
   "execution_count": 83,
   "metadata": {},
   "outputs": [],
   "source": [
    "def rfe(model):\n",
    "    rfe = RFE(model,4)\n",
    "    fit = rfe.fit(X, y)\n",
    "    print(\"Num Features: %s\" % (fit.n_features_))\n",
    "    print(\"Selected Features: %s\" % (fit.support_))\n",
    "    print(\"Feature Ranking: %s\" % (fit.ranking_))"
   ]
  },
  {
   "cell_type": "markdown",
   "metadata": {},
   "source": [
    "<h2>1.3 Model performance evaluation</h2>"
   ]
  },
  {
   "cell_type": "code",
   "execution_count": 84,
   "metadata": {},
   "outputs": [],
   "source": [
    "from sklearn.metrics import roc_auc_score, accuracy_score, precision_score, recall_score\n",
    "from sklearn.metrics import f1_score, confusion_matrix, roc_curve"
   ]
  },
  {
   "cell_type": "code",
   "execution_count": 85,
   "metadata": {},
   "outputs": [],
   "source": [
    "import matplotlib.pyplot as plt\n",
    "import seaborn as sns\n",
    "%matplotlib inline"
   ]
  },
  {
   "cell_type": "code",
   "execution_count": 86,
   "metadata": {},
   "outputs": [],
   "source": [
    "def print_report(y_actual, y_pred):\n",
    "\n",
    "    cnf_matrix = confusion_matrix(y_test, y_pred)\n",
    "    tn, fp, fn, tp = cnf_matrix.ravel()\n",
    "    specificity = tn / (tn+fp)\n",
    "    auc = roc_auc_score (y_actual, y_pred)\n",
    "    accuracy = accuracy_score(y_actual, y_pred)\n",
    "    recall = recall_score(y_actual, y_pred)\n",
    "    precision = precision_score(y_actual, y_pred)\n",
    " \n",
    "    print('AUC:%.3f'%auc)\n",
    "    print('Accuracy:%.3f'%accuracy)\n",
    "    print('Recall:%.3f'%recall)\n",
    "    print('Precision:%.3f'%precision)\n",
    "    print('specificity:%.3f'%specificity)\n",
    "    print('F1 score: %.3f'%f1_score(y_test, y_pred, labels=np.unique(y_pred)))\n",
    "     \n",
    "    class_name = [0,1]\n",
    "    fig, ax = plt.subplots()\n",
    "    tick_marks = np.arange(len(class_name))\n",
    "    plt.xticks(tick_marks, class_name)\n",
    "    plt.yticks(tick_marks, class_name)\n",
    "\n",
    "    #create heatmap for the confusion matrix\n",
    "    plot1 = plt.figure(1)\n",
    "    sns.heatmap(pd.DataFrame(cnf_matrix), annot=True, cmap=\"YlGnBu\", fmt='g')\n",
    "    plt.tight_layout()\n",
    "    plt.title('Confusion matrix', y=1.1)\n",
    "    plt.ylabel('Actual label',fontsize = 'large')\n",
    "    plt.xlabel('Predicted label',fontsize = 'large')\n",
    "    ax.xaxis.set_label_position(\"top\")\n",
    "    \n",
    "    #plot the ROC\n",
    "    plot1 = plt.figure(2)\n",
    "    fpr_train, tpr_train, tresholds_train = roc_curve(y_actual,y_pred)\n",
    "    plt.plot(fpr_train,tpr_train,'r--', label = 'AUC:%.3f'%auc)\n",
    "    plt.plot([0,1],[0,1], 'k--') \n",
    "    plt.xlabel('False Postive Rate')\n",
    "    plt.ylabel('True Positive Rate')\n",
    "    plt.legend()\n",
    "    plt.show()"
   ]
  },
  {
   "cell_type": "markdown",
   "metadata": {},
   "source": [
    "<h1> 2. Train the model </h1>"
   ]
  },
  {
   "cell_type": "markdown",
   "metadata": {},
   "source": [
    "<h2>2.1 Logistic Regression</h2>"
   ]
  },
  {
   "cell_type": "code",
   "execution_count": 87,
   "metadata": {},
   "outputs": [],
   "source": [
    "from sklearn.linear_model import LogisticRegression"
   ]
  },
  {
   "cell_type": "code",
   "execution_count": 88,
   "metadata": {},
   "outputs": [],
   "source": [
    "logreg_model = LogisticRegression(solver='lbfgs', max_iter=200)\n",
    "logreg_model.fit(X_train_res,y_train_res)\n",
    "logreg_y_pred = logreg_model.predict(X_test)"
   ]
  },
  {
   "cell_type": "code",
   "execution_count": 89,
   "metadata": {},
   "outputs": [
    {
     "name": "stdout",
     "output_type": "stream",
     "text": [
      "AUC:0.909\n",
      "Accuracy:0.846\n",
      "Recall:1.000\n",
      "Precision:0.500\n",
      "specificity:0.818\n",
      "F1 score: 0.667\n"
     ]
    },
    {
     "data": {
      "image/png": "[encoded data removed]",
      "text/plain": [
       "<Figure size 432x288 with 2 Axes>"
      ]
     },
     "metadata": {
      "needs_background": "light"
     },
     "output_type": "display_data"
    },
    {
     "data": {
      "image/png": "[encoded data removed]",
      "text/plain": [
       "<Figure size 432x288 with 1 Axes>"
      ]
     },
     "metadata": {
      "needs_background": "light"
     },
     "output_type": "display_data"
    }
   ],
   "source": [
    "print_report(y_test,logreg_y_pred)"
   ]
  },
  {
   "cell_type": "markdown",
   "metadata": {},
   "source": [
    "<h3> 2.1.1 logistic regression best 4 features by using rfe</h3>"
   ]
  },
  {
   "cell_type": "code",
   "execution_count": 90,
   "metadata": {},
   "outputs": [
    {
     "name": "stdout",
     "output_type": "stream",
     "text": [
      "Num Features: 4\n",
      "Selected Features: [False  True False  True  True False  True False False False]\n",
      "Feature Ranking: [7 1 4 1 1 6 1 5 2 3]\n"
     ]
    }
   ],
   "source": [
    "#Feature Extraction\n",
    "rfe(logreg_model)\n",
    "# Best 4 features: 1. gender, 6. ED_presentation, 4 Anaphylaxis, 3. Angioedema,"
   ]
  },
  {
   "cell_type": "markdown",
   "metadata": {},
   "source": [
    "<h3> 2.1.2 logistic regression model performance evaluation after the feature selection </h3>"
   ]
  },
  {
   "cell_type": "code",
   "execution_count": 91,
   "metadata": {},
   "outputs": [],
   "source": [
    "logreg_X_train_new = []\n",
    "for i in range(len(X_train_res)):\n",
    "    temp = []\n",
    "    temp.append(X_train_res[i,1])\n",
    "    temp.append(X_train_res[i,3])\n",
    "    temp.append(X_train_res[i,4])\n",
    "    temp.append(X_train_res[i,6])   \n",
    "    logreg_X_train_new.append(temp)\n",
    "    temp = []\n",
    "    \n",
    "logreg_X_test_new = []\n",
    "for i in range(len(X_test)):\n",
    "    temp = []\n",
    "    temp.append(X_test[i,1])\n",
    "    temp.append(X_test[i,3])\n",
    "    temp.append(X_test[i,4])\n",
    "    temp.append(X_test[i,6])\n",
    "    logreg_X_test_new.append(temp)\n",
    "    temp = []"
   ]
  },
  {
   "cell_type": "code",
   "execution_count": 92,
   "metadata": {},
   "outputs": [],
   "source": [
    "logreg_model = LogisticRegression(solver='lbfgs', max_iter=200)\n",
    "logreg_model.fit(logreg_X_train_new,y_train_res)\n",
    "logreg_y_pred_new = logreg_model.predict(logreg_X_test_new)"
   ]
  },
  {
   "cell_type": "code",
   "execution_count": 93,
   "metadata": {},
   "outputs": [
    {
     "name": "stdout",
     "output_type": "stream",
     "text": [
      "AUC:0.955\n",
      "Accuracy:0.923\n",
      "Recall:1.000\n",
      "Precision:0.667\n",
      "specificity:0.909\n",
      "F1 score: 0.800\n"
     ]
    },
    {
     "data": {
      "image/png": "[encoded data removed]",
      "text/plain": [
       "<Figure size 432x288 with 2 Axes>"
      ]
     },
     "metadata": {
      "needs_background": "light"
     },
     "output_type": "display_data"
    },
    {
     "data": {
      "image/png": "[encoded data removed]",
      "text/plain": [
       "<Figure size 432x288 with 1 Axes>"
      ]
     },
     "metadata": {
      "needs_background": "light"
     },
     "output_type": "display_data"
    }
   ],
   "source": [
    "print_report(y_test,logreg_y_pred_new)"
   ]
  },
  {
   "cell_type": "markdown",
   "metadata": {},
   "source": [
    "<h2>2.2 SVM</h2>"
   ]
  },
  {
   "cell_type": "code",
   "execution_count": 94,
   "metadata": {},
   "outputs": [],
   "source": [
    "from sklearn import svm"
   ]
  },
  {
   "cell_type": "code",
   "execution_count": 95,
   "metadata": {},
   "outputs": [],
   "source": [
    "svm_model = svm.SVC(C=1, kernel='linear', degree=3, gamma='scale')\n",
    "svm_model.fit(X_train_res,y_train_res)\n",
    "svm_y_pred = svm_model.predict(X_test)"
   ]
  },
  {
   "cell_type": "code",
   "execution_count": 96,
   "metadata": {},
   "outputs": [
    {
     "name": "stdout",
     "output_type": "stream",
     "text": [
      "AUC:0.705\n",
      "Accuracy:0.846\n",
      "Recall:0.500\n",
      "Precision:0.500\n",
      "specificity:0.909\n",
      "F1 score: 0.500\n"
     ]
    },
    {
     "data": {
      "image/png": "[encoded data removed]",
      "text/plain": [
       "<Figure size 432x288 with 2 Axes>"
      ]
     },
     "metadata": {
      "needs_background": "light"
     },
     "output_type": "display_data"
    },
    {
     "data": {
      "image/png": "[encoded data removed]",
      "text/plain": [
       "<Figure size 432x288 with 1 Axes>"
      ]
     },
     "metadata": {
      "needs_background": "light"
     },
     "output_type": "display_data"
    }
   ],
   "source": [
    "print_report(y_test,svm_y_pred)"
   ]
  },
  {
   "cell_type": "markdown",
   "metadata": {},
   "source": [
    "<h3> 2.2.1 svm best 4 features by using rfe </h3>"
   ]
  },
  {
   "cell_type": "code",
   "execution_count": 97,
   "metadata": {},
   "outputs": [
    {
     "name": "stdout",
     "output_type": "stream",
     "text": [
      "Num Features: 4\n",
      "Selected Features: [False  True False False  True False  True  True False False]\n",
      "Feature Ranking: [7 1 4 2 1 3 1 1 5 6]\n"
     ]
    }
   ],
   "source": [
    "#Feature Extraction\n",
    "rfe(svm_model)\n",
    "\n",
    "# Best 4 features: 1 gender, 4 Anaphylaxis, 6 ED_presentation, 7 Latency"
   ]
  },
  {
   "cell_type": "markdown",
   "metadata": {},
   "source": [
    "<h3> 2.2.2 svm performance evaluation after the feature selection </h3>"
   ]
  },
  {
   "cell_type": "code",
   "execution_count": 188,
   "metadata": {},
   "outputs": [],
   "source": [
    "svm_X_train_new = []\n",
    "for i in range(len(X_train_res)):\n",
    "    temp = []\n",
    "    temp.append(X_train_res[i,1])  \n",
    "    temp.append(X_train_res[i,4])\n",
    "    temp.append(X_train_res[i,6])\n",
    "    temp.append(X_train_res[i,7])\n",
    "    svm_X_train_new.append(temp)\n",
    "    temp = []\n",
    "    \n",
    "svm_X_test_new = []\n",
    "for i in range(len(X_test)):\n",
    "    temp = []\n",
    "    temp.append(X_test[i,1])\n",
    "    temp.append(X_test[i,4])\n",
    "    temp.append(X_test[i,6])\n",
    "    temp.append(X_test[i,7])\n",
    "    svm_X_test_new.append(temp)\n",
    "    temp = []"
   ]
  },
  {
   "cell_type": "code",
   "execution_count": 189,
   "metadata": {},
   "outputs": [],
   "source": [
    "svm_model_new = svm.SVC(C=1, kernel='linear', degree=3, gamma='scale')\n",
    "svm_model_new.fit(svm_X_train_new,y_train_res)\n",
    "svm_y_pred_new = svm_model_new.predict(svm_X_test_new)"
   ]
  },
  {
   "cell_type": "code",
   "execution_count": 190,
   "metadata": {},
   "outputs": [
    {
     "name": "stdout",
     "output_type": "stream",
     "text": [
      "AUC:1.000\n",
      "Accuracy:1.000\n",
      "Recall:1.000\n",
      "Precision:1.000\n",
      "specificity:1.000\n",
      "F1 score: 1.000\n"
     ]
    },
    {
     "data": {
      "image/png": "[encoded data removed]",
      "text/plain": [
       "<Figure size 432x288 with 2 Axes>"
      ]
     },
     "metadata": {
      "needs_background": "light"
     },
     "output_type": "display_data"
    },
    {
     "data": {
      "image/png": "[encoded data removed]",
      "text/plain": [
       "<Figure size 432x288 with 1 Axes>"
      ]
     },
     "metadata": {
      "needs_background": "light"
     },
     "output_type": "display_data"
    }
   ],
   "source": [
    "print_report(y_test,svm_y_pred_new)"
   ]
  },
  {
   "cell_type": "markdown",
   "metadata": {},
   "source": [
    "<h2>2.3 Random Forest</h2>"
   ]
  },
  {
   "cell_type": "code",
   "execution_count": 191,
   "metadata": {},
   "outputs": [],
   "source": [
    "from sklearn.ensemble import RandomForestClassifier\n",
    "from sklearn.tree import DecisionTreeClassifier\n",
    "\n",
    "rf = RandomForestClassifier(n_estimators=10, random_state=10)\n",
    "rf.fit(X_train_res, y_train_res)\n",
    "rf_y_pred = rf.predict(X_test)"
   ]
  },
  {
   "cell_type": "code",
   "execution_count": 192,
   "metadata": {},
   "outputs": [
    {
     "name": "stdout",
     "output_type": "stream",
     "text": [
      "AUC:0.705\n",
      "Accuracy:0.846\n",
      "Recall:0.500\n",
      "Precision:0.500\n",
      "specificity:0.909\n",
      "F1 score: 0.500\n"
     ]
    },
    {
     "data": {
      "image/png": "[encoded data removed]",
      "text/plain": [
       "<Figure size 432x288 with 2 Axes>"
      ]
     },
     "metadata": {
      "needs_background": "light"
     },
     "output_type": "display_data"
    },
    {
     "data": {
      "image/png": "[encoded data removed]",
      "text/plain": [
       "<Figure size 432x288 with 1 Axes>"
      ]
     },
     "metadata": {
      "needs_background": "light"
     },
     "output_type": "display_data"
    }
   ],
   "source": [
    "print_report(y_test,rf_y_pred)"
   ]
  },
  {
   "cell_type": "markdown",
   "metadata": {},
   "source": [
    "<h3> 2.3.1 rf feature extraction </h3>"
   ]
  },
  {
   "cell_type": "markdown",
   "metadata": {},
   "source": [
    "method 1: rf feature importances"
   ]
  },
  {
   "cell_type": "code",
   "execution_count": 193,
   "metadata": {},
   "outputs": [
    {
     "name": "stdout",
     "output_type": "stream",
     "text": [
      "[0.20807194 0.07882275 0.08641441 0.06882306 0.01671178 0.0557798\n",
      " 0.06093253 0.12185412 0.21948386 0.08310576]\n"
     ]
    }
   ],
   "source": [
    "print(rf.feature_importances_) "
   ]
  },
  {
   "cell_type": "code",
   "execution_count": 194,
   "metadata": {},
   "outputs": [
    {
     "data": {
      "text/html": [
       "<div>\n",
       "<style scoped>\n",
       "    .dataframe tbody tr th:only-of-type {\n",
       "        vertical-align: middle;\n",
       "    }\n",
       "\n",
       "    .dataframe tbody tr th {\n",
       "        vertical-align: top;\n",
       "    }\n",
       "\n",
       "    .dataframe thead th {\n",
       "        text-align: right;\n",
       "    }\n",
       "</style>\n",
       "<table border=\"1\" class=\"dataframe\">\n",
       "  <thead>\n",
       "    <tr style=\"text-align: right;\">\n",
       "      <th></th>\n",
       "      <th>Features</th>\n",
       "      <th>Importances</th>\n",
       "    </tr>\n",
       "  </thead>\n",
       "  <tbody>\n",
       "    <tr>\n",
       "      <th>8</th>\n",
       "      <td>8</td>\n",
       "      <td>0.219484</td>\n",
       "    </tr>\n",
       "    <tr>\n",
       "      <th>0</th>\n",
       "      <td>0</td>\n",
       "      <td>0.208072</td>\n",
       "    </tr>\n",
       "    <tr>\n",
       "      <th>7</th>\n",
       "      <td>7</td>\n",
       "      <td>0.121854</td>\n",
       "    </tr>\n",
       "    <tr>\n",
       "      <th>2</th>\n",
       "      <td>2</td>\n",
       "      <td>0.086414</td>\n",
       "    </tr>\n",
       "    <tr>\n",
       "      <th>9</th>\n",
       "      <td>9</td>\n",
       "      <td>0.083106</td>\n",
       "    </tr>\n",
       "    <tr>\n",
       "      <th>1</th>\n",
       "      <td>1</td>\n",
       "      <td>0.078823</td>\n",
       "    </tr>\n",
       "    <tr>\n",
       "      <th>3</th>\n",
       "      <td>3</td>\n",
       "      <td>0.068823</td>\n",
       "    </tr>\n",
       "    <tr>\n",
       "      <th>6</th>\n",
       "      <td>6</td>\n",
       "      <td>0.060933</td>\n",
       "    </tr>\n",
       "    <tr>\n",
       "      <th>5</th>\n",
       "      <td>5</td>\n",
       "      <td>0.055780</td>\n",
       "    </tr>\n",
       "    <tr>\n",
       "      <th>4</th>\n",
       "      <td>4</td>\n",
       "      <td>0.016712</td>\n",
       "    </tr>\n",
       "  </tbody>\n",
       "</table>\n",
       "</div>"
      ],
      "text/plain": [
       "   Features  Importances\n",
       "8         8     0.219484\n",
       "0         0     0.208072\n",
       "7         7     0.121854\n",
       "2         2     0.086414\n",
       "9         9     0.083106\n",
       "1         1     0.078823\n",
       "3         3     0.068823\n",
       "6         6     0.060933\n",
       "5         5     0.055780\n",
       "4         4     0.016712"
      ]
     },
     "execution_count": 194,
     "metadata": {},
     "output_type": "execute_result"
    },
    {
     "data": {
      "image/png": "[encoded data removed]",
      "text/plain": [
       "<Figure size 432x288 with 1 Axes>"
      ]
     },
     "metadata": {
      "needs_background": "light"
     },
     "output_type": "display_data"
    }
   ],
   "source": [
    "rf_importance = rf.feature_importances_\n",
    "final_df = pd.DataFrame({\"Features\": pd.DataFrame(X).columns, \"Importances\": rf_importance })\n",
    "final_df.set_index('Importances')\n",
    "\n",
    "# sort the feature importances in a decending order \n",
    "final_df = final_df.sort_values(by = 'Importances', ascending=False)\n",
    "\n",
    "# plot the features in bars\n",
    "final_df.plot.bar(x = 'Features', y = 'Importances', color = 'teal', rot = 0)\n",
    "final_df\n",
    "\n",
    "# Best 5 features: React_time, age, Latency, Treatment, gender"
   ]
  },
  {
   "cell_type": "markdown",
   "metadata": {},
   "source": [
    "method 2: recursive feature elimination"
   ]
  },
  {
   "cell_type": "code",
   "execution_count": 195,
   "metadata": {},
   "outputs": [
    {
     "name": "stdout",
     "output_type": "stream",
     "text": [
      "Num Features: 4\n",
      "Selected Features: [False False  True  True False  True False False  True False]\n",
      "Feature Ranking: [4 3 1 1 5 1 2 7 1 6]\n"
     ]
    }
   ],
   "source": [
    "rfe(rf)\n",
    "\n",
    "# Best 4 features: age, Urticaria, ED_presentation, React_time"
   ]
  },
  {
   "cell_type": "markdown",
   "metadata": {},
   "source": [
    "<h3> 2.3.2 rf performance evaluation after the feature extraction </h3>"
   ]
  },
  {
   "cell_type": "code",
   "execution_count": 200,
   "metadata": {},
   "outputs": [],
   "source": [
    "rf_X_train_new = []\n",
    "for i in range(len(X_train_res)):\n",
    "    temp = []\n",
    "    temp.append(X_train_res[i,8])\n",
    "    temp.append(X_train_res[i,7])\n",
    "    temp.append(X_train_res[i,6])\n",
    "    temp.append(X_train_res[i,0])\n",
    "    temp.append(X_train_res[i,4])\n",
    "    rf_X_train_new.append(temp)\n",
    "    temp = []\n",
    "    \n",
    "rf_X_test_new = []\n",
    "for i in range(len(X_test)):\n",
    "    temp = []\n",
    "    temp.append(X_test[i,8])\n",
    "    temp.append(X_test[i,7])\n",
    "    temp.append(X_test[i,6])\n",
    "    temp.append(X_test[i,0])\n",
    "    temp.append(X_test[i,4])\n",
    "    rf_X_test_new.append(temp)\n",
    "    temp = []"
   ]
  },
  {
   "cell_type": "code",
   "execution_count": 201,
   "metadata": {},
   "outputs": [],
   "source": [
    "rf = RandomForestClassifier(n_estimators=10, random_state=10)\n",
    "rf.fit(rf_X_train_new, y_train_res)\n",
    "rf_y_pred_new = rf.predict(rf_X_test_new)"
   ]
  },
  {
   "cell_type": "code",
   "execution_count": 202,
   "metadata": {},
   "outputs": [
    {
     "name": "stdout",
     "output_type": "stream",
     "text": [
      "AUC:0.705\n",
      "Accuracy:0.846\n",
      "Recall:0.500\n",
      "Precision:0.500\n",
      "specificity:0.909\n",
      "F1 score: 0.500\n"
     ]
    },
    {
     "data": {
      "image/png": "[encoded data removed]",
      "text/plain": [
       "<Figure size 432x288 with 2 Axes>"
      ]
     },
     "metadata": {
      "needs_background": "light"
     },
     "output_type": "display_data"
    },
    {
     "data": {
      "image/png": "[encoded data removed]",
      "text/plain": [
       "<Figure size 432x288 with 1 Axes>"
      ]
     },
     "metadata": {
      "needs_background": "light"
     },
     "output_type": "display_data"
    }
   ],
   "source": [
    "print_report(y_test,rf_y_pred_new)"
   ]
  },
  {
   "cell_type": "markdown",
   "metadata": {},
   "source": [
    "<h2> 2.4 Neural Networks Classification </h2>"
   ]
  },
  {
   "cell_type": "code",
   "execution_count": 203,
   "metadata": {},
   "outputs": [],
   "source": [
    "from sklearn.neural_network import MLPClassifier"
   ]
  },
  {
   "cell_type": "code",
   "execution_count": 204,
   "metadata": {},
   "outputs": [],
   "source": [
    "mlp_clf = MLPClassifier(solver='lbfgs', alpha=1e-5,hidden_layer_sizes=(4, 2), random_state=1)\n",
    "mlp_clf.fit(X_train_res, y_train_res)\n",
    "mlp_clf_y_pred = mlp_clf.predict(X_test)"
   ]
  },
  {
   "cell_type": "code",
   "execution_count": 205,
   "metadata": {},
   "outputs": [
    {
     "name": "stdout",
     "output_type": "stream",
     "text": [
      "AUC:0.477\n",
      "Accuracy:0.462\n",
      "Recall:0.500\n",
      "Precision:0.143\n",
      "specificity:0.455\n",
      "F1 score: 0.222\n"
     ]
    },
    {
     "data": {
      "image/png": "[encoded data removed]",
      "text/plain": [
       "<Figure size 432x288 with 2 Axes>"
      ]
     },
     "metadata": {
      "needs_background": "light"
     },
     "output_type": "display_data"
    },
    {
     "data": {
      "image/png": "[encoded data removed]",
      "text/plain": [
       "<Figure size 432x288 with 1 Axes>"
      ]
     },
     "metadata": {
      "needs_background": "light"
     },
     "output_type": "display_data"
    }
   ],
   "source": [
    "print_report(y_test,mlp_clf_y_pred)"
   ]
  },
  {
   "cell_type": "markdown",
   "metadata": {},
   "source": [
    "<h1>3. Other Feature Selection methods </h1>"
   ]
  },
  {
   "cell_type": "markdown",
   "metadata": {},
   "source": [
    "<h2> 3.1 chi-square test </h2>"
   ]
  },
  {
   "cell_type": "code",
   "execution_count": 214,
   "metadata": {},
   "outputs": [],
   "source": [
    "from sklearn.model_selection import cross_val_score, GridSearchCV"
   ]
  },
  {
   "cell_type": "code",
   "execution_count": 215,
   "metadata": {},
   "outputs": [],
   "source": [
    "from sklearn.feature_selection import SelectKBest\n",
    "from sklearn.feature_selection import chi2\n",
    "from sklearn.feature_selection import f_classif"
   ]
  },
  {
   "cell_type": "code",
   "execution_count": 220,
   "metadata": {},
   "outputs": [
    {
     "name": "stdout",
     "output_type": "stream",
     "text": [
      "Original feature number: 10\n",
      "Reduced feature number: 4\n"
     ]
    },
    {
     "data": {
      "text/plain": [
       "array([1.96044895e+00, 2.62518230e+00, 2.61367688e+00, 4.27807487e+00,\n",
       "       9.27272727e+00, 4.27807487e+00, 9.84076055e+00, 1.97998080e-01,\n",
       "       1.97998080e-01, 6.71877142e-03])"
      ]
     },
     "execution_count": 220,
     "metadata": {},
     "output_type": "execute_result"
    }
   ],
   "source": [
    "# chi-square test, SelectKBest\n",
    "chi2_features = SelectKBest(chi2, k=4)\n",
    "X_kbest_features = chi2_features.fit_transform(X,y)\n",
    "\n",
    "#reduced features\n",
    "print('Original feature number:', X.shape[1])\n",
    "print('Reduced feature number:', X_kbest_features.shape[1])\n",
    "chi2_features.scores_\n",
    "\n",
    "# Best 5 features: 1. ED_presentation, 2. Anaphylaxis, 3. Treatment, 4. Angioedema/Adrenaline_use"
   ]
  },
  {
   "cell_type": "code",
   "execution_count": 221,
   "metadata": {},
   "outputs": [
    {
     "data": {
      "text/plain": [
       "Pipeline(steps=[('selector',\n",
       "                 SelectKBest(k=4, score_func=<function chi2 at 0x135c2b5e0>)),\n",
       "                ('clf',\n",
       "                 MLPClassifier(alpha=1e-05, hidden_layer_sizes=(4, 2),\n",
       "                               random_state=1, solver='lbfgs'))])"
      ]
     },
     "execution_count": 221,
     "metadata": {},
     "output_type": "execute_result"
    }
   ],
   "source": [
    "pipe = Pipeline([\n",
    "            (\"selector\",chi2_features),\n",
    "            (\"clf\", mlp_clf)\n",
    "])\n",
    "\n",
    "pipe.fit(X, y)"
   ]
  },
  {
   "cell_type": "code",
   "execution_count": 222,
   "metadata": {},
   "outputs": [
    {
     "data": {
      "text/plain": [
       "0.8548387096774194"
      ]
     },
     "execution_count": 222,
     "metadata": {},
     "output_type": "execute_result"
    }
   ],
   "source": [
    "pipe.score(X,y)"
   ]
  },
  {
   "cell_type": "markdown",
   "metadata": {},
   "source": [
    "<h2>3.2 Fisher's Score </h2>"
   ]
  },
  {
   "cell_type": "code",
   "execution_count": 223,
   "metadata": {},
   "outputs": [
    {
     "data": {
      "text/plain": [
       "array([3, 5, 4, 6, 8, 7, 2, 1, 9, 0])"
      ]
     },
     "execution_count": 223,
     "metadata": {},
     "output_type": "execute_result"
    }
   ],
   "source": [
    "# feature extraction before SMOTE\n",
    "from skfeature.function.similarity_based import fisher_score\n",
    "\n",
    "# Calculate the score\n",
    "ranks = fisher_score.fisher_score(X,y,mode ='rank')\n",
    "ranks\n",
    "\n",
    "#Best 5 features: Treatment, React_time, Latency, ED_presentation, age [9,7,6,0,2]"
   ]
  },
  {
   "cell_type": "code",
   "execution_count": 224,
   "metadata": {},
   "outputs": [
    {
     "data": {
      "text/plain": [
       "array([3, 8, 5, 6, 4, 7, 2, 1, 0, 9])"
      ]
     },
     "execution_count": 224,
     "metadata": {},
     "output_type": "execute_result"
    }
   ],
   "source": [
    "# feature extraction after SMOTE\n",
    "\n",
    "from skfeature.function.similarity_based import fisher_score\n",
    "\n",
    "# Calculate the score\n",
    "ranks = fisher_score.fisher_score(X_res,y_res,mode ='rank')\n",
    "ranks\n",
    "\n",
    "#Best 5 features: React_time, Latency, ED_presentation, age, Anaphylaxis [8,7,6,0,4]"
   ]
  },
  {
   "cell_type": "markdown",
   "metadata": {},
   "source": [
    "<h1>4. RFE for classification - Automatically select the number of features </h1>"
   ]
  },
  {
   "cell_type": "code",
   "execution_count": 225,
   "metadata": {},
   "outputs": [],
   "source": [
    "from sklearn.model_selection import cross_val_score\n",
    "from sklearn.model_selection import RepeatedStratifiedKFold\n",
    "from sklearn.feature_selection import RFE\n",
    "from sklearn.feature_selection import RFECV"
   ]
  },
  {
   "cell_type": "code",
   "execution_count": 226,
   "metadata": {},
   "outputs": [],
   "source": [
    "from numpy import mean\n",
    "from numpy import std"
   ]
  },
  {
   "cell_type": "code",
   "execution_count": 227,
   "metadata": {},
   "outputs": [],
   "source": [
    "def get_dataset():\n",
    "    X, y = X_res, y_res\n",
    "    return X, y\n",
    "\n",
    "def get_models():\n",
    "    models = dict()\n",
    "    #lr\n",
    "    rfe = RFECV(estimator=LogisticRegression(solver='lbfgs', max_iter=200))\n",
    "    model = DecisionTreeClassifier()\n",
    "    models['lr'] = Pipeline(steps=[('s',rfe),('m',model)])\n",
    "    #svm\n",
    "    rfe = RFECV(estimator= svm.SVC(C=1, kernel='linear', degree=3, gamma='scale'))\n",
    "    model = DecisionTreeClassifier()\n",
    "    models['svm'] = Pipeline(steps=[('s',rfe),('m',model)])\n",
    "    #rf\n",
    "    rfe = RFECV(estimator= RandomForestClassifier(n_estimators=10, random_state=10))\n",
    "    model = DecisionTreeClassifier()\n",
    "    models['rf'] = Pipeline(steps=[('s',rfe),('m',model)])\n",
    "    return models\n",
    "\n",
    "def evaluate_model(model, X, y):\n",
    "    cv = RepeatedStratifiedKFold(n_splits=10, n_repeats=3, random_state=1)\n",
    "    scores = []\n",
    "    score_accuracy = cross_val_score(model, X, y, scoring='accuracy', cv=cv, n_jobs=-1)\n",
    "    score_recall = cross_val_score(model, X, y, scoring='recall', cv=cv, n_jobs=-1)\n",
    "    score_precision = cross_val_score(model, X, y, scoring='precision', cv=cv, n_jobs=-1)\n",
    "    score_f1 = cross_val_score(model, X, y, scoring='f1', cv=cv, n_jobs=-1)\n",
    "    scores.append('Accuracy:%.3f (%.3f)'%(mean(score_accuracy), std(score_accuracy)))\n",
    "    scores.append('Recall:%.3f (%.3f)'%(mean(score_recall), std(score_recall)))\n",
    "    scores.append('Presicion:%.3f (%.3f)'%(mean(score_precision), std(score_precision)))\n",
    "    scores.append('f1:%.3f (%.3f)'%(mean(score_f1), std(score_f1)))\n",
    "    return scores "
   ]
  },
  {
   "cell_type": "code",
   "execution_count": 228,
   "metadata": {},
   "outputs": [
    {
     "name": "stdout",
     "output_type": "stream",
     "text": [
      "lr ['Accuracy:0.830 (0.109)', 'Recall:0.714 (0.199)', 'Presicion:0.951 (0.103)', 'f1:0.796 (0.141)']\n",
      "svm ['Accuracy:0.863 (0.102)', 'Recall:0.773 (0.158)', 'Presicion:0.964 (0.094)', 'f1:0.844 (0.112)']\n",
      "rf ['Accuracy:0.841 (0.101)', 'Recall:0.846 (0.179)', 'Presicion:0.841 (0.126)', 'f1:0.836 (0.120)']\n"
     ]
    }
   ],
   "source": [
    "# define dataset \n",
    "X_auto, y_auto = get_dataset()\n",
    "\n",
    "# get the models to evaluate\n",
    "models = get_models()\n",
    "\n",
    "# evaluate the models and store results\n",
    "results, names = list(), list()\n",
    "for name, model in models.items():\n",
    "    scores = evaluate_model(model, X_auto, y_auto)\n",
    "    results.extend(scores)\n",
    "    names.append(name)\n",
    "    print(name, results) \n",
    "    results = list()\n"
   ]
  }
 ],
 "metadata": {
  "kernelspec": {
   "display_name": "Python 3",
   "language": "python",
   "name": "python3"
  },
  "language_info": {
   "codemirror_mode": {
    "name": "ipython",
    "version": 3
   },
   "file_extension": ".py",
   "mimetype": "text/x-python",
   "name": "python",
   "nbconvert_exporter": "python",
   "pygments_lexer": "ipython3",
   "version": "3.9.0"
  }
 },
 "nbformat": 4,
 "nbformat_minor": 4
}
